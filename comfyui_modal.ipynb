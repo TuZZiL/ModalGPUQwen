{
  "cells": [
    {
      "cell_type": "code",
      "execution_count": null,
      "metadata": {
        "id": "CV_JSomG3zL_"
      },
      "outputs": [],
      "source": [
        "from google.colab import userdata\n",
        "#modal token_id = ak-xxxxxxxxxxxxxxxxxx\n",
        "token_id = userdata.get('token_id')\n",
        "#modal token_secret = as-xxxxxxxxxxxxxxx\n",
        "token_secret = userdata.get('token_secret')\n",
        "\n",
        "!pip install modal\n",
        "!modal token set --token-id {token_id} --token-secret {token_secret}\n",
        "!wget http://raw.githubusercontent.com/marwanto606/comfyui_modal/refs/heads/main/comfyui_app_a100.py -O /content/comfyui_app.py\n",
        "!modal deploy comfyui_app.py"
      ]
    }
  ],
  "metadata": {
    "colab": {
      "provenance": [],
      "private_outputs": true
    },
    "kernelspec": {
      "display_name": "Python 3",
      "name": "python3"
    },
    "language_info": {
      "name": "python"
    }
  },
  "nbformat": 4,
  "nbformat_minor": 0
}